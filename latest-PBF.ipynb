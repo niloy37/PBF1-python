{
 "cells": [
  {
   "cell_type": "code",
   "execution_count": 1,
   "metadata": {
    "colab": {
     "base_uri": "https://localhost:8080/"
    },
    "executionInfo": {
     "elapsed": 3454,
     "status": "ok",
     "timestamp": 1667914473394,
     "user": {
      "displayName": "Shamim Khaled",
      "userId": "17545052050732200912"
     },
     "user_tz": -360
    },
    "id": "Wnd0tEHTO4iM",
    "outputId": "75346651-76bb-4923-af96-28036b49ea5d"
   },
   "outputs": [
    {
     "name": "stdout",
     "output_type": "stream",
     "text": [
      "Collecting testcase\n",
      "  Downloading testcase-0.1.0-py3-none-any.whl (2.9 kB)\n",
      "Installing collected packages: testcase\n",
      "Successfully installed testcase-0.1.0\n"
     ]
    }
   ],
   "source": [
    "!pip install testcase\n"
   ]
  },
  {
   "cell_type": "code",
   "execution_count": 2,
   "metadata": {
    "colab": {
     "base_uri": "https://localhost:8080/"
    },
    "executionInfo": {
     "elapsed": 2887,
     "status": "ok",
     "timestamp": 1667914476263,
     "user": {
      "displayName": "Shamim Khaled",
      "userId": "17545052050732200912"
     },
     "user_tz": -360
    },
    "id": "YAJ7b6m9mzoo",
    "outputId": "726b0df7-4338-48e7-9681-acaaa8f742b0"
   },
   "outputs": [
    {
     "name": "stdout",
     "output_type": "stream",
     "text": [
      "Collecting mmh3\n",
      "  Downloading mmh3-3.0.0-cp39-cp39-win_amd64.whl (15 kB)\n",
      "Installing collected packages: mmh3\n",
      "Successfully installed mmh3-3.0.0\n"
     ]
    }
   ],
   "source": [
    "!pip install mmh3"
   ]
  },
  {
   "cell_type": "code",
   "execution_count": 3,
   "metadata": {
    "executionInfo": {
     "elapsed": 10,
     "status": "ok",
     "timestamp": 1667914476264,
     "user": {
      "displayName": "Shamim Khaled",
      "userId": "17545052050732200912"
     },
     "user_tz": -360
    },
    "id": "WSsRMc_UTvtk"
   },
   "outputs": [],
   "source": [
    "import mmh3 as mmh3"
   ]
  },
  {
   "cell_type": "code",
   "execution_count": 4,
   "metadata": {
    "executionInfo": {
     "elapsed": 8,
     "status": "ok",
     "timestamp": 1667914476264,
     "user": {
      "displayName": "Shamim Khaled",
      "userId": "17545052050732200912"
     },
     "user_tz": -360
    },
    "id": "-gcwVWQiRAhR"
   },
   "outputs": [],
   "source": [
    "import numpy as np"
   ]
  },
  {
   "cell_type": "code",
   "execution_count": 5,
   "metadata": {
    "colab": {
     "base_uri": "https://localhost:8080/"
    },
    "executionInfo": {
     "elapsed": 2725,
     "status": "ok",
     "timestamp": 1667914478981,
     "user": {
      "displayName": "Shamim Khaled",
      "userId": "17545052050732200912"
     },
     "user_tz": -360
    },
    "id": "zJ8n5YlnRAhR",
    "outputId": "93ca1f3a-5c5c-4c72-fe30-38b688c7f3e4"
   },
   "outputs": [
    {
     "name": "stdout",
     "output_type": "stream",
     "text": [
      "Collecting bitsets\n",
      "  Downloading bitsets-0.8.4-py3-none-any.whl (13 kB)\n",
      "Installing collected packages: bitsets\n",
      "Successfully installed bitsets-0.8.4\n"
     ]
    }
   ],
   "source": [
    "!pip install bitsets\n",
    "from bitsets import bitset"
   ]
  },
  {
   "cell_type": "code",
   "execution_count": 6,
   "metadata": {
    "executionInfo": {
     "elapsed": 20,
     "status": "ok",
     "timestamp": 1667914478982,
     "user": {
      "displayName": "Shamim Khaled",
      "userId": "17545052050732200912"
     },
     "user_tz": -360
    },
    "id": "64eyrvufRM8n"
   },
   "outputs": [],
   "source": [
    "#!/usr/bin/env python\n",
    "# package: edu.ecnu.pbf\n",
    "\n",
    "\n",
    "# \n",
    "#  * Unit test for simple App.\n",
    "# \\\n",
    "import testcase \n",
    "import unittest\n",
    "class AppTest(unittest.TestCase):\n",
    "   \n",
    "    def __init__(self, testName):\n",
    "        \"\"\" generated source for method __init__ \"\"\"\n",
    "        super(AppTest, self).__init__(testName)\n",
    "\n",
    "    def suite(cls):\n",
    "        \"\"\" generated source for method suite \"\"\"\n",
    "        return TestSuite(AppTest.__class__)\n",
    "     \n",
    "    def testApp(self):\n",
    "        \"\"\" generated source for method testApp \"\"\"\n",
    "        assertTrue(True)"
   ]
  },
  {
   "cell_type": "code",
   "execution_count": null,
   "metadata": {
    "executionInfo": {
     "elapsed": 20,
     "status": "ok",
     "timestamp": 1667914478983,
     "user": {
      "displayName": "Shamim Khaled",
      "userId": "17545052050732200912"
     },
     "user_tz": -360
    },
    "id": "-v4bVxuTXeMc"
   },
   "outputs": [],
   "source": []
  },
  {
   "cell_type": "code",
   "execution_count": 7,
   "metadata": {
    "executionInfo": {
     "elapsed": 19,
     "status": "ok",
     "timestamp": 1667914478984,
     "user": {
      "displayName": "Shamim Khaled",
      "userId": "17545052050732200912"
     },
     "user_tz": -360
    },
    "id": "EuVey044Xej0"
   },
   "outputs": [],
   "source": [
    "class DualTuple:\n",
    "\tdef __init__(self, first, second):\n",
    "\t\tself.first = first\n",
    "\t\tself.second = second\n",
    "\t\n",
    "\tdef getFirst(self):\n",
    "\t\treturn self.first\n",
    "\t\n",
    "\tdef getSecond(self):\n",
    "\t\treturn self.second\n",
    "\t\n",
    "\tdef toString(self):\n",
    "\t\treturn \"(\" + self.first + \",\"  + self.second + \")\""
   ]
  },
  {
   "cell_type": "code",
   "execution_count": 8,
   "metadata": {
    "executionInfo": {
     "elapsed": 16,
     "status": "ok",
     "timestamp": 1667914478984,
     "user": {
      "displayName": "Shamim Khaled",
      "userId": "17545052050732200912"
     },
     "user_tz": -360
    },
    "id": "L-j_Om-gfcdy"
   },
   "outputs": [],
   "source": [
    "from abc import ABCMeta, abstractmethod"
   ]
  },
  {
   "cell_type": "code",
   "execution_count": 9,
   "metadata": {
    "executionInfo": {
     "elapsed": 15,
     "status": "ok",
     "timestamp": 1667914478985,
     "user": {
      "displayName": "Shamim Khaled",
      "userId": "17545052050732200912"
     },
     "user_tz": -360
    },
    "id": "1_YikRMTZarU"
   },
   "outputs": [],
   "source": [
    "class PersistentBloomFilter(object):\n",
    "    def insertString(self, element, timestamp):\n",
    "        pass\n",
    "\n",
    "    def queryString(self, element, timestamp):\n",
    "        pass\n",
    "\n",
    "    def queryString(self, element, startTime, endTime):\n",
    "        pass\n",
    "\n",
    "    def insert(self, element, timestamp):\n",
    "        pass\n",
    "\n",
    "    def query(self, element, timestamp):\n",
    "        pass\n",
    "\n",
    "    def query(self, element, startTime, endTime):\n",
    "        pass"
   ]
  },
  {
   "cell_type": "code",
   "execution_count": 10,
   "metadata": {
    "colab": {
     "base_uri": "https://localhost:8080/"
    },
    "executionInfo": {
     "elapsed": 3399,
     "status": "ok",
     "timestamp": 1667914482370,
     "user": {
      "displayName": "Shamim Khaled",
      "userId": "17545052050732200912"
     },
     "user_tz": -360
    },
    "id": "kv6TgsY9hQ0l",
    "outputId": "b6f0fb18-565e-4580-e50b-839035b977f3"
   },
   "outputs": [
    {
     "name": "stdout",
     "output_type": "stream",
     "text": [
      "Requirement already satisfied: bitarray in c:\\anaconda\\lib\\site-packages (2.5.1)\n"
     ]
    }
   ],
   "source": [
    "!pip install bitarray"
   ]
  },
  {
   "cell_type": "code",
   "execution_count": 11,
   "metadata": {
    "executionInfo": {
     "elapsed": 24,
     "status": "ok",
     "timestamp": 1667914482371,
     "user": {
      "displayName": "Shamim Khaled",
      "userId": "17545052050732200912"
     },
     "user_tz": -360
    },
    "id": "diPjhtJ1TfxZ"
   },
   "outputs": [],
   "source": [
    "from bitarray import bitarray "
   ]
  },
  {
   "cell_type": "code",
   "execution_count": 12,
   "metadata": {
    "colab": {
     "base_uri": "https://localhost:8080/"
    },
    "executionInfo": {
     "elapsed": 3762,
     "status": "ok",
     "timestamp": 1667914486112,
     "user": {
      "displayName": "Shamim Khaled",
      "userId": "17545052050732200912"
     },
     "user_tz": -360
    },
    "id": "87zXBFuXjVXM",
    "outputId": "7a0286ad-f4a8-400b-e2e4-1a173edd7ee0"
   },
   "outputs": [
    {
     "name": "stdout",
     "output_type": "stream",
     "text": [
      "Collecting bitset\n",
      "  Downloading BitSet-0.1.2.tar.gz (5.0 kB)\n",
      "  Preparing metadata (setup.py): started\n",
      "  Preparing metadata (setup.py): finished with status 'done'\n",
      "Building wheels for collected packages: bitset\n",
      "  Building wheel for bitset (setup.py): started\n",
      "  Building wheel for bitset (setup.py): finished with status 'done'\n",
      "  Created wheel for bitset: filename=BitSet-0.1.2-py3-none-any.whl size=5287 sha256=e0625a0685cbd65b316a4402a60ceb37cb8ed4d0884dc34e5f4779ba73b9f142\n",
      "  Stored in directory: c:\\users\\niloy pc\\appdata\\local\\pip\\cache\\wheels\\f0\\d6\\95\\8afcfe67b1543abf77650c4819842a24296f243d73451d1ddb\n",
      "Successfully built bitset\n",
      "Installing collected packages: bitset\n",
      "Successfully installed bitset-0.1.2\n"
     ]
    }
   ],
   "source": [
    "!pip install bitset"
   ]
  },
  {
   "cell_type": "code",
   "execution_count": 13,
   "metadata": {
    "colab": {
     "base_uri": "https://localhost:8080/"
    },
    "executionInfo": {
     "elapsed": 53,
     "status": "ok",
     "timestamp": 1667914486112,
     "user": {
      "displayName": "Shamim Khaled",
      "userId": "17545052050732200912"
     },
     "user_tz": -360
    },
    "id": "x_lrA0qHjERC",
    "outputId": "324193b3-c0f5-4b0e-f694-ff373ad08816"
   },
   "outputs": [
    {
     "name": "stderr",
     "output_type": "stream",
     "text": [
      "C:\\Users\\Niloy PC\\AppData\\Local\\Temp\\ipykernel_1752\\1852026641.py:1: DeprecationWarning: Using or importing the ABCs from 'collections' instead of from 'collections.abc' is deprecated since Python 3.3, and in 3.10 it will stop working\n",
      "  from collections import Sequence\n"
     ]
    }
   ],
   "source": [
    "from collections import Sequence\n",
    "import math\n",
    "\n",
    "class BitSet(Sequence):\n",
    "\n",
    "    value = 0\n",
    "    length = 0\n",
    "\n",
    "    def from_sequence(cls, seq):\n",
    "        n = 0\n",
    "        for index, value in enumerate(reversed(seq)):\n",
    "            n += 2**index * bool(int(value))\n",
    "        b = Bitset(n)\n",
    "        return b\n",
    "\n",
    "    def __init__(self, value=0, length=0):\n",
    "        \"\"\"Creates a Bitset with the given integer value.\"\"\"\n",
    "        self.value = value\n",
    "        try: self.length = length or math.floor(math.log(value, 2)) + 1\n",
    "        except Exception: self.length = 0\n",
    "\n",
    "    def __and__(self, other):\n",
    "        b = Bitset(self.value & int(other))\n",
    "        b.length = max((self.length, b.length))\n",
    "        return b\n",
    "\n",
    "    def __or__(self, other):\n",
    "        b = Bitset(self.value | int(other))\n",
    "        b.length = max((self.length, b.length))\n",
    "        return b\n",
    "\n",
    "    def __invert__(self):\n",
    "        b = Bitset(~self.value)\n",
    "        b.length = max((self.length, b.length))\n",
    "        return b\n",
    "\n",
    "    def __xor__(self, value):\n",
    "        b = Bitset(self.value ^ int(value))\n",
    "        b.length = max((self.length, b.length))\n",
    "        return b\n",
    "\n",
    "    def __lshift__(self, value):\n",
    "        b = Bitset(self.value << int(value))\n",
    "        b.length = max((self.length, b.length))\n",
    "        return b\n",
    "\n",
    "    def __rshift__(self, value):\n",
    "        b = Bitset(self.value >> int(value))\n",
    "        b.length = max((self.length, b.length))\n",
    "        return b\n",
    "\n",
    "    def __eq__(self, other):\n",
    "        try:\n",
    "            return self.value == other.value\n",
    "        except Exception:\n",
    "            return self.value == other\n",
    "\n",
    "    def __int__(self):\n",
    "        return self.value\n",
    "\n",
    "    def __str__(self):\n",
    "        s = \"\"\n",
    "        for i in self[:]:\n",
    "            s += \"1\" if i else \"0\"\n",
    "        return s\n",
    "\n",
    "    def __repr__(self):\n",
    "        return \"Bitset(%s)\" % str(self)\n",
    "\n",
    "    def __getitem__(self, s):\n",
    "        \"\"\"Gets the specified position.\n",
    "\n",
    "        Like normal integers, 0 represents the MSB.\n",
    "        \"\"\"\n",
    "        try:\n",
    "            start, stop, step = s.indices(len(self))\n",
    "            a = []\n",
    "            for x in y:\n",
    "                a.append(x)\n",
    "            results =np.array(a)\n",
    "            for position in range(start, stop, step):\n",
    "                pos = len(self) - position - 1\n",
    "                results.append(bool(self.value & (int(np.left_shift(1,pos)))))\n",
    "            return results\n",
    "        except:\n",
    "            pos = len(self) - s - 1\n",
    "            return bool(self.value & (int(np.left_shift(1,pos))))\n",
    "\n",
    "    def __setitem__(self, s, value):\n",
    "        \"\"\"Sets the specified position/s to value.\n",
    "\n",
    "        Like normal integers, 0 represents the MSB.\n",
    "        \"\"\"\n",
    "        try:\n",
    "            start, stop, step = s.indices(len(self))\n",
    "            for position in range(start, stop, step):\n",
    "                pos = len(self) - position - 1\n",
    "                if value: self.value |= (int(np.left_shift(1,pos)))\n",
    "                else: self.value &= ~(int(np.left_shift(1,pos)))\n",
    "            maximum_position = max((start + 1, stop, len(self)))\n",
    "            self.length = maximum_position\n",
    "        except:\n",
    "            pos = len(self) - s - 1\n",
    "            if value: self.value |= (int(np.left_shift(1,pos)))\n",
    "            else: self.value &= ~(int(np.left_shift(1,pos)))\n",
    "            if len(self) < pos: self.length = pos\n",
    "        return self\n",
    "\n",
    "    def __iter__(self):\n",
    "        \"\"\"Iterates over the values in the bitset.\"\"\"\n",
    "        for i in self[:]:\n",
    "            yield i\n",
    "\n",
    "    def __len__(self):\n",
    "        \"\"\"Returns the length of the bitset.\"\"\"\n",
    "        return self.length"
   ]
  },
  {
   "cell_type": "code",
   "execution_count": 14,
   "metadata": {
    "executionInfo": {
     "elapsed": 48,
     "status": "ok",
     "timestamp": 1667914486113,
     "user": {
      "displayName": "Shamim Khaled",
      "userId": "17545052050732200912"
     },
     "user_tz": -360
    },
    "id": "v4X2UTjHZ_oR"
   },
   "outputs": [],
   "source": [
    "class Beta0:\n",
    "    #def __init__(self):\n",
    "        #self.bitNum = 1000000\n",
    "        #self.hashNum = 4\n",
    "        #self.bs = bitarray(self.bitNum)\n",
    "        \n",
    "    def __init__(self, bitNum=1000000, hashNum= 4):\n",
    "        self.bitNum = bitNum\n",
    "        self.hashNum = hashNum\n",
    "        self.bs = bitarray(bitNum)\n",
    "    \n",
    "    def getBitSet(self):\n",
    "       \n",
    "        return self.bs\n",
    "\n",
    "    def setBitSet(self, bs):\n",
    "        \n",
    "        self.bs = bs\n",
    "\n",
    " \n",
    "    def getSize(self):\n",
    "        \n",
    "        return self.bitNum\n",
    "\n",
    "   \n",
    "    def getHashNum(self):\n",
    "        \n",
    "        return self.hashNum\n",
    "\n",
    "    \n",
    "    def insertString(self, element, timestamp):\n",
    "        result = True\n",
    "        byteElement = element.encode('utf-8')\n",
    "        for i in range(0, self.hashNum):\n",
    "            hash1 = mmh3.hash(byteElement, int(timestamp * self.hashNum + i))\n",
    "            index = self.getIndex(hash1)\n",
    "            self.bs.set(index)\n",
    "\n",
    "        return result\n",
    "\n",
    "    \n",
    "    def queryString(self, element, timestamp):\n",
    "        byteElement = bytearray(element.encode('utf-8'))\n",
    "        isExist = True\n",
    "        for i in range(self.hashNum):\n",
    "            hash1 = mmh3.hash(byteElement, int(timestamp * self.hashNum + i))\n",
    "            index = self.getIndex(hash1)\n",
    "            if not self.bs[index]:\n",
    "                isExist = False\n",
    "                break\n",
    "        return isExist\n",
    "\n",
    "    \n",
    "    def queryString(self, element, startTime, endTime):\n",
    "        isExist = False\n",
    "\n",
    "        if startTime > endTime or startTime < 0 or endTime < 0:\n",
    "            isExist = False\n",
    "        else:\n",
    "            for i in range(startTime, endTime + 1):\n",
    "                if self.queryString(element, i):\n",
    "                    isExist = True\n",
    "                    break\n",
    "\n",
    "        return isExist\n",
    "\n",
    "    \n",
    "    def insert(self, element, timestamp):\n",
    "        result = True\n",
    "        for i in range(self.hashNum):\n",
    "            hash = mmh3.hash(element, (int)(timestamp * self.hashNum + i))\n",
    "            index = self.getIndex(hash)\n",
    "            self.bs[index] = 1\n",
    "        return result\n",
    "\n",
    "   \n",
    "  \n",
    "    def query0(self, element, timestamp):\n",
    "        result = True\n",
    "        for i in range(0, self.hashNum):\n",
    "            hash1 = mmh3.hash(element, int(timestamp * self.hashNum + i))\n",
    "            index = self.getIndex(hash1)\n",
    "            if not self.bs[index]:\n",
    "                result = False\n",
    "                break\n",
    "        return result\n",
    "\n",
    "    \n",
    "    #@query.register(object, byte, long, long)\n",
    "    def query(self, element, startTime, endTime):\n",
    "        result = False\n",
    "        if startTime > endTime or endTime < 0:\n",
    "            result = False\n",
    "        else:\n",
    "            startTime = startTime if startTime > 0 else 0\n",
    "            for i in range(startTime, endTime+1):\n",
    "                if self.query0(element, i):\n",
    "                    result = True\n",
    "                    break\n",
    "        return result\n",
    "\n",
    "    def getIndex(self, hash1):\n",
    "        \n",
    "        index = hash1 % self.bitNum\n",
    "        return index if index >= 0 else -index\n",
    "    "
   ]
  },
  {
   "cell_type": "code",
   "execution_count": 15,
   "metadata": {
    "colab": {
     "base_uri": "https://localhost:8080/"
    },
    "executionInfo": {
     "elapsed": 47,
     "status": "ok",
     "timestamp": 1667914486113,
     "user": {
      "displayName": "Shamim Khaled",
      "userId": "17545052050732200912"
     },
     "user_tz": -360
    },
    "id": "9wMNU_cyRAhe",
    "outputId": "faace878-bbb1-48eb-ee4e-354b02ac7f17"
   },
   "outputs": [
    {
     "name": "stdout",
     "output_type": "stream",
     "text": [
      "True\n",
      "False\n",
      "False\n",
      "True\n",
      "True\n",
      "True\n",
      "False\n"
     ]
    }
   ],
   "source": [
    "    def main():\n",
    "        element = \"guo\".encode()\n",
    "        b = Beta0(100000, 6)\n",
    "        b.insert(element, 100)\n",
    "        print(b.query0(element, 100))\n",
    "        print(b.query(element, 0, 99))\n",
    "        print(b.query(element, 101, 200))\n",
    "        print(b.query(element, 0, 100))\n",
    "        print(b.query(element, 100, 200))\n",
    "        print(b.query(element, 0, 200))\n",
    "        print(b.query(element, 200, 215))\n",
    "    \n",
    "    if __name__ == \"__main__\":\n",
    "        main()\n"
   ]
  },
  {
   "cell_type": "code",
   "execution_count": 16,
   "metadata": {
    "executionInfo": {
     "elapsed": 44,
     "status": "ok",
     "timestamp": 1667914486114,
     "user": {
      "displayName": "Shamim Khaled",
      "userId": "17545052050732200912"
     },
     "user_tz": -360
    },
    "id": "-hnFwHrdazWn"
   },
   "outputs": [],
   "source": [
    "import array  "
   ]
  },
  {
   "cell_type": "code",
   "execution_count": 17,
   "metadata": {
    "executionInfo": {
     "elapsed": 43,
     "status": "ok",
     "timestamp": 1667914486114,
     "user": {
      "displayName": "Shamim Khaled",
      "userId": "17545052050732200912"
     },
     "user_tz": -360
    },
    "id": "6sM502d-a0bc"
   },
   "outputs": [],
   "source": [
    "class BinaryUtil2:\n",
    "    bitMask = array.array('I', [0xffffffff, 0xfffffffe, 0xfffffffc, 0xfffffff8,\n",
    "                           0xfffffff0, 0xffffffe0, 0xffffffc0, 0xffffff80, 0xffffff00,\n",
    "                           0xfffffe00, 0xfffffc00, 0xfffff800, 0xfffff000, 0xffffe000,\n",
    "                           0xffffc000, 0xffff8000, 0xffff0000, 0xfffe0000, 0xfffc0000,\n",
    "                           0xfff80000, 0xfff00000, 0xffe00000, 0xffc00000, 0xff800000,\n",
    "                           0xff000000, 0xfe000000, 0xfc000000, 0xf8000000, 0xf0000000,\n",
    "                           0xe0000000, 0xc0000000, 0x80000000, 0x00000000])\n",
    "    levelSize = [0, 1 << 0, 1 << 1, 1 << 2, 1 << 3, 1 << 4, 1 << 5, 1 << 6, 1 << 7, 1 << 8, 1 << 9, 1 << 10, 1 << 11, 1 << 12, 1 << 13, 1 << 14, 1 << 15, 1 << 16, 1 << 17, 1 << 18, 1 << 19, 1 << 20, 1 << 21, 1 << 22, 1 << 23, 1 << 24, 1 << 25, 1 << 26, 1 << 27, 1 << 28, 1 << 29, 1 << 30 ]\n",
    "    #bitMask = [ 0xffffffff, 0xfffffffe, 0xfffffffc, 0xfffffff8, 0xfffffff0, 0xffffffe0, 0xffffffc0, 0xffffff80, 0xffffff00, 0xfffffe00, 0xfffffc00, 0xfffff800, 0xfffff000, 0xffffe000, 0xffffc000, 0xffff8000, 0xffff0000, 0xfffe0000, 0xfffc0000, 0xfff80000, 0xfff00000, 0xffe00000, 0xffc00000, 0xff800000, 0xff000000, 0xfe000000, 0xfc000000, 0xf8000000, 0xf0000000, 0xe0000000, 0xc0000000, 0x80000000, 0x00000000 ]\n",
    "    #levelSize = [ 0, 1 << 0, 1 << 1, 1 << 2, 1 << 3, 1 << 4, 1 << 5, 1 << 6, 1 << 7, 1 << 8, 1 << 9, 1 << 10, 1 << 11, 1 << 12, 1 << 13, 1 << 14, 1 << 15, 1 << 16, 1 << 17, 1 << 18, 1 << 19, 1 << 20, 1 << 21, 1 << 22, 1 << 23, 1 << 24, 1 << 25, 1 << 26, 1 << 27, 1 << 28, 1 << 29, 1 << 30 ]\n",
    "\n",
    "    def getBinaryDecomposition(start, end):\n",
    "        result = []\n",
    "        i = start\n",
    "        while i <= end:\n",
    "            level = BinaryUtil2.getBinaryLevel(i, end)\n",
    "            result.append(DualTuple(i, level))\n",
    "            #print(result)\n",
    "            i = i + (np.left_shift(1, (level - 1)))\n",
    "        return result\n",
    "      \n",
    "  \n",
    "\n",
    "\n",
    "\n",
    "    def getBinaryLevel(startKey, endKey):\n",
    "        level = 1\n",
    "        if startKey == endKey:\n",
    "            level = 1\n",
    "        elif 0 == startKey:\n",
    "            size = endKey - startKey + 1\n",
    "            start = 1\n",
    "            end = 31\n",
    "            middle = (start + end) / 2\n",
    "            middle = int(middle)\n",
    "            \n",
    "            while start < end:\n",
    "                middle = (start + end) / 2\n",
    "                middle = int(middle)\n",
    "                if BinaryUtil2.levelSize[middle] == size:\n",
    "                    break\n",
    "                elif BinaryUtil2.levelSize[middle] < size:\n",
    "                    start = middle + 1\n",
    "                else:\n",
    "                    end = middle\n",
    "            if BinaryUtil2.levelSize[middle] > size:\n",
    "                level = middle - 1\n",
    "            else:\n",
    "                level = middle\n",
    "        else:\n",
    "            start = 1\n",
    "            end = 32\n",
    "            middle = (start + end) / 2\n",
    "            middle = int(middle)\n",
    "            while start < end:\n",
    "                if 0 == (startKey & ~BinaryUtil2.bitMask[int(middle)]):\n",
    "                    start = middle + 1\n",
    "                else:\n",
    "                    end = middle\n",
    "                middle = (start + end) / 2\n",
    "            level = int(middle)\n",
    "            while (startKey + int(np.left_shift(1, level-1))) > (endKey + 1):\n",
    "                level -= 1\n",
    "        return level\n",
    "    def getStartKey(startTime, endTime, level):\n",
    "        a = []\n",
    "        for x in BinaryUtil2.y:\n",
    "            a.append(x)\n",
    "        startKey = np.array(a)\n",
    "        if 30 < level or 0 > level:\n",
    "            pass\n",
    "        else:\n",
    "            i = startTime / BinaryUtil2.levelSize[level + 1]\n",
    "            startKeyTemp = i * BinaryUtil2.levelSize[level + 1]\n",
    "            while startKeyTemp <= endTime:\n",
    "                startKey.append(startKeyTemp)\n",
    "                startKeyTemp += BinaryUtil2.levelSize[level + 1]\n",
    "        return startKey\n",
    "        "
   ]
  },
  {
   "cell_type": "code",
   "execution_count": 18,
   "metadata": {
    "colab": {
     "base_uri": "https://localhost:8080/"
    },
    "executionInfo": {
     "elapsed": 43,
     "status": "ok",
     "timestamp": 1667914486115,
     "user": {
      "displayName": "Shamim Khaled",
      "userId": "17545052050732200912"
     },
     "user_tz": -360
    },
    "id": "aPYAMX4ORAhn",
    "outputId": "76324a02-5b58-4d31-fb4a-0972b01f80cf"
   },
   "outputs": [
    {
     "name": "stdout",
     "output_type": "stream",
     "text": [
      "0: 5\n",
      "16: 1\n"
     ]
    }
   ],
   "source": [
    "def main():\n",
    "    list1 = BinaryUtil2.getBinaryDecomposition (0, 16)\n",
    "    #print(list1)\n",
    "    #print(\"jk\")\n",
    "    for i in list1:\n",
    "        print(str(i.getFirst()) + \": \" + str(i.getSecond()))\n",
    "        #print(\"jk\")\n",
    "\n",
    "if __name__ == \"__main__\":\n",
    "    main()      "
   ]
  },
  {
   "cell_type": "code",
   "execution_count": null,
   "metadata": {
    "executionInfo": {
     "elapsed": 39,
     "status": "ok",
     "timestamp": 1667914486115,
     "user": {
      "displayName": "Shamim Khaled",
      "userId": "17545052050732200912"
     },
     "user_tz": -360
    },
    "id": "09SJCk6ARAho"
   },
   "outputs": [],
   "source": []
  },
  {
   "cell_type": "code",
   "execution_count": 19,
   "metadata": {
    "executionInfo": {
     "elapsed": 39,
     "status": "ok",
     "timestamp": 1667914486116,
     "user": {
      "displayName": "Shamim Khaled",
      "userId": "17545052050732200912"
     },
     "user_tz": -360
    },
    "id": "dzBMRMDNRAho"
   },
   "outputs": [],
   "source": [
    "import hashlib\n",
    "\n",
    "class BasicBloomFilter:\n",
    "    \n",
    "    def __init__(self, bitNum=100000, hashNum=4):\n",
    "        self.bitNum = bitNum\n",
    "        self.hashNum = hashNum\n",
    "        self.bs = bitarray(self.bitNum)\n",
    "        \n",
    "    def getBitSet(self):\n",
    "        return self.bs\n",
    "    \n",
    "    def setBitSet(self, bs):\n",
    "        self.bs = bs\n",
    "        \n",
    "    def get_size(self):\n",
    "        return self.bitNum\n",
    "    \n",
    "    def getHashNum(self):\n",
    "        return self.hashNum\n",
    "    \n",
    "    \n",
    "        \n",
    "        \n",
    "    def insert(self, element):\n",
    "        for i in range(0, self.hashNum):\n",
    "            hash1 = mmh3.hash(element, i)\n",
    "            index = self.getIndex(hash1)\n",
    "            self.bs.__setitem__(index, True)\n",
    "            \n",
    "            \n",
    "    \n",
    "    def insertString(self, element):\n",
    "        byteElement = bytearray(element, 'utf-8')\n",
    "\n",
    "        for i in range(self.hashNum):\n",
    "            hash1 =mmh3.hash(byteElement, i)\n",
    "            index = self.getIndex(hash1)\n",
    "            self.bs.__setitem__(index, True)\n",
    "    \n",
    "    def query(self, element):\n",
    "        isExist = True\n",
    "        for i in range(self.hashNum):\n",
    "            hash1 = mmh3.hash(element, i)\n",
    "            index = self.getIndex(hash1)\n",
    "            if False == self.bs[index]:\n",
    "                isExist = False\n",
    "                break\n",
    "\n",
    "        return isExist\n",
    "                \n",
    "    \n",
    "    def queryString(self, element):\n",
    "        byteElement = bytearray(element)\n",
    "        isExist = True\n",
    "        for i in range(0, self.hashNum):\n",
    "            hash1 = mmh3.hash(byteElement, i)\n",
    "            index = self.getIndex(hash1)\n",
    "            if not self.bs[index]:\n",
    "                isExist = False\n",
    "            break\n",
    "        return isExist\n",
    "\n",
    "    \n",
    "            \n",
    "    \n",
    "    def getPFP(self, insertNum):\n",
    "        return self.decimal.ONE\n",
    "        \n",
    "    def getIndex(self,hash1):\n",
    "        index = hash1 % self.bitNum\n",
    "        return index if index >= 0 else -index\n",
    "    \n",
    "    \n",
    "    "
   ]
  },
  {
   "cell_type": "code",
   "execution_count": 20,
   "metadata": {
    "colab": {
     "base_uri": "https://localhost:8080/"
    },
    "executionInfo": {
     "elapsed": 38,
     "status": "ok",
     "timestamp": 1667914486116,
     "user": {
      "displayName": "Shamim Khaled",
      "userId": "17545052050732200912"
     },
     "user_tz": -360
    },
    "id": "Y0B2kLKZRAhp",
    "outputId": "b291d830-1c2c-4703-e594-c56d8742ad84"
   },
   "outputs": [
    {
     "name": "stdout",
     "output_type": "stream",
     "text": [
      "True\n",
      "False\n"
     ]
    }
   ],
   "source": [
    "    def main():\n",
    "      bbf = BasicBloomFilter(100000, 5)\n",
    "      bbf.insert(\"guo\".encode())\n",
    "      print(bbf.query(\"guo\".encode()))\n",
    "      print(bbf.query(\"g\".encode()))\n",
    "\n",
    "    if __name__ == \"__main__\":\n",
    "      main()"
   ]
  },
  {
   "cell_type": "code",
   "execution_count": null,
   "metadata": {
    "executionInfo": {
     "elapsed": 34,
     "status": "ok",
     "timestamp": 1667914486116,
     "user": {
      "displayName": "Shamim Khaled",
      "userId": "17545052050732200912"
     },
     "user_tz": -360
    },
    "id": "hw1CBu_Ytkh_"
   },
   "outputs": [],
   "source": []
  },
  {
   "cell_type": "code",
   "execution_count": 21,
   "metadata": {
    "executionInfo": {
     "elapsed": 34,
     "status": "ok",
     "timestamp": 1667914486117,
     "user": {
      "displayName": "Shamim Khaled",
      "userId": "17545052050732200912"
     },
     "user_tz": -360
    },
    "id": "10TiqNMety7X"
   },
   "outputs": [],
   "source": [
    "class CommonConstants(object):\n",
    "    g = [1 << 0, 1 << 1, 1 << 2, 1 << 3, 1 << 4, 1 << 5, 1 << 6, 1 << 7, 1 << 8, 1 << 9, 1 << 10, 1 << 11, 1 << 12, 1 << 13, 1 << 14, 1 << 15, 1 << 16, 1 << 17, 1 << 18, 1 << 19, 1 << 20, 1 << 21, 1 << 22, 1 << 23, 1 << 24, 1 << 25, 1 << 26, 1 << 27, 1 << 28, 1 << 29, 1 << 30]\n",
    "    K_MAX = 16\n",
    "    MAX_LEVEL_NUM = 30"
   ]
  },
  {
   "cell_type": "code",
   "execution_count": 22,
   "metadata": {
    "executionInfo": {
     "elapsed": 396,
     "status": "ok",
     "timestamp": 1667917270981,
     "user": {
      "displayName": "Shamim Khaled",
      "userId": "17545052050732200912"
     },
     "user_tz": -360
    },
    "id": "D6e6-hEHRAhq"
   },
   "outputs": [],
   "source": [
    "from collections import defaultdict"
   ]
  },
  {
   "cell_type": "code",
   "execution_count": 55,
   "metadata": {
    "executionInfo": {
     "elapsed": 392,
     "status": "ok",
     "timestamp": 1667918941417,
     "user": {
      "displayName": "Shamim Khaled",
      "userId": "17545052050732200912"
     },
     "user_tz": -360
    },
    "id": "MYML1hw1RAhr"
   },
   "outputs": [],
   "source": [
    "class Beta1(PersistentBloomFilter):\n",
    "    \n",
    "    def __init__(self, bitNum, levelNum, g):\n",
    "        self.b0 = Beta0(bitNum, CommonConstants.K_MAX)\n",
    "        self.totalBitNum = bitNum   \n",
    "        self.gLevel = 1\n",
    "        tempG = g\n",
    "        tempG = tempG / 2\n",
    "        tempG = int(tempG)\n",
    "        while (tempG  > 0):\n",
    "            tempG = int(tempG / 2)\n",
    "            self.gLevel += 1\n",
    "            \n",
    "        \n",
    "        self.bfArray = []\n",
    "        j = 2\n",
    "        self.bitNumTmp = bitNum\n",
    "        #i = 0\n",
    "        #print(self.gLevel)\n",
    "        #for i = 0; i < (1 << (levelNum - self.gLevel + 1))-1; i++:\n",
    "        #while (i < (1 << int(np.left_shift(1,(levelNum - self.gLevel + 1))) - 1)):   \n",
    "        for i in range(0, int(np.left_shift(1,(levelNum - self.gLevel + 1))) - 1):\n",
    "            self.bfArray.append(BasicBloomFilter(self.bitNumTmp, CommonConstants.K_MAX))\n",
    "            self.totalBitNum += self.bitNumTmp\n",
    "            \n",
    "        \n",
    "        self.levelNum = levelNum\n",
    "        self.g = g\n",
    "        self.maxT = CommonConstants.g[levelNum - 1] - 1\n",
    "        \n",
    "    def __init(self, m, k, levelNum, g):\n",
    "        self.gLevel = 1\n",
    "        tempG = g\n",
    "        tempG = int(tempG / 2)\n",
    "        while (tempG / 2) > 0:\n",
    "            self.gLevel += 1\n",
    "            \n",
    "        self.b0 = Beta0(m[0], k[0])\n",
    "        self.totalBitNum = m[0]\n",
    "        self.bfArray = []\n",
    "        for i in range(1, len(m)):\n",
    "            if m[i] == 0:\n",
    "                self.bfArray.append(BasicBloomFilter(1, 1))\n",
    "            else:\n",
    "                self.bfArray.append(BasicBloomFilter(m[i], k[i]))\n",
    "                self.totalBitNum += m[i]\n",
    "                \n",
    "        self.levelNum = levelNum\n",
    "        self.g = g\n",
    "        self.maxT = CommonConstants.g[levelNum - 1] - 1\n",
    "        \n",
    "    def insertString(self, element, timestamp):\n",
    "        index = 1\n",
    "        start = 0\n",
    "        end = self.maxT\n",
    "        for i in range(0, self.levelNum - self.gLevel + 1):\n",
    "            self.bfArray.get(index - 1).insertString(element)\n",
    "            mid = (start + end) / 2\n",
    "            mid = int(mid)\n",
    "            if mid < timestamp:\n",
    "                start = mid + 1 \n",
    "                index = index * 2 + 1\n",
    "            else:\n",
    "                end = mid\n",
    "                index = index * 2\n",
    "                \n",
    "        self.b0.insertString(element, timestamp)\n",
    "        return True\n",
    "    \n",
    "\n",
    "   \n",
    "\n",
    "    def queryString(self, element, startTime, endTime=None):\n",
    "        if endTime == None:\n",
    "            return False\n",
    "        result = False\n",
    "        indexArray = self.getBinaryDecomposition(startTime, endTime)\n",
    "        for i in range(len(indexArray)):\n",
    "            index = indexArray[i]\n",
    "            if self.bfArray.get(index - 1).queryString(element):\n",
    "                if i == 0 and index > len(self.bfArray) / 2 and not self.b0.queryString(element, startTime, startTime + self.g - startTime / self.g - 1):\n",
    "                    continue          \n",
    "                elif i == len(indexArray) - 1 and index > len(self.bfArray) / 2 and not self.b0.queryString(element, endTime - endTime / self.g, endTime):\n",
    "                    continue\n",
    "                result = True\n",
    "                break\n",
    "        return result\n",
    "        \n",
    "\n",
    "        \n",
    "    def insert(self, element, timestamp):\n",
    "        result = True\n",
    "        index = 1\n",
    "        start = 0\n",
    "        end = self.maxT\n",
    "        for i in range(0, self.levelNum - self.gLevel + 1):\n",
    "            bf = self.bfArray[index - 1]\n",
    "            if None != bf:\n",
    "                bf.insert(element)\n",
    "            mid = (start + end) / 2\n",
    "            mid = int(mid)\n",
    "                \n",
    "            if mid < timestamp:\n",
    "                start = mid + 1\n",
    "                index = index * 2 + 1\n",
    "                \n",
    "            else:\n",
    "                end = mid\n",
    "                index = index * 2\n",
    "            i += 1\n",
    "        self.b0.insert(element, timestamp)\n",
    "        return result\n",
    "\n",
    "    def query(element, timestamp):\n",
    "        return False\n",
    "\n",
    "    def query(self, element, startTime, endTime):\n",
    "        result = False\n",
    "        indexArray = self.getBinaryDecomposition(startTime, endTime)\n",
    "\n",
    "        for i in range(0, len(indexArray)):\n",
    "            index = int(indexArray[i])\n",
    "            #print(indexArray[i])\n",
    "            bf = self.bfArray[index - 1]\n",
    "            if  None == bf:\n",
    "                result = True\n",
    "                break\n",
    "            elif bf.query(element):\n",
    "                if i == 0 and index > len(self.bfArray) / 2 and not self.b0.query(element, startTime, startTime + self.g - startTime % self.g - 1):\n",
    "                    continue\n",
    "                elif i == len(indexArray) - 1 and index > len(self.bfArray) / 2 and not self.b0.query(element, endTime - endTime % self.g, endTime):\n",
    "                    continue\n",
    "                result = True\n",
    "                break\n",
    "        return result\n",
    "    \n",
    "    def getBinaryDecomposition(self, start, end):\n",
    "        results = []\n",
    "        #for i in range(start, end):\n",
    "        i = start\n",
    "        while i <= end:\n",
    "            level = BinaryUtil2.getBinaryLevel(i, end)\n",
    "            #print(\"level = \"+ str(level))\n",
    "            index = np.left_shift(1, self.levelNum - level) + int(i / CommonConstants.g[level-1])\n",
    "            #index = (1 << (self.levelNum - level)) + i / CommonConstants.g[level - 1]\n",
    "            #print(\"index value: \" + str(index))\n",
    "            #print(\"bf array = \"+str())\n",
    "            bf = len(self.bfArray)\n",
    "\n",
    "            while (index > bf):\n",
    "                index = index / 2\n",
    "                index = int(index)\n",
    "            \n",
    "            results.append(index)\n",
    "            i = i + (np.left_shift(1, level - 1))  \n",
    "        #print(results)\n",
    "        return results\n",
    "    \n",
    "    \n",
    "    \n",
    "    def getBfArray(self):\n",
    "        return self.bfArray\n",
    "    \n",
    "    def getB0(self):\n",
    "        return self.b0\n",
    "    \n",
    "    def getLevelNum(self):\n",
    "        return self.levelNum\n",
    "    \n",
    "    def getLevelNum(self, maxT):\n",
    "        result = 0\n",
    "        for i in range(0, len(CommonConstants.g)):\n",
    "            if (maxT + 1) <= CommonConstants.g[i]:\n",
    "                result = i + 1\n",
    "                break\n",
    "        return result\n",
    "    \n",
    "    def getG(self):\n",
    "        return self.g\n",
    "    \n",
    "    def getMaxT(self):\n",
    "        return self.maxT\n",
    "    \n",
    "    def getTotalBitNum(self):\n",
    "        return self.totalBitNum\n",
    "\n",
    "    \n",
    "       \n",
    "        "
   ]
  },
  {
   "cell_type": "code",
   "execution_count": 56,
   "metadata": {
    "colab": {
     "base_uri": "https://localhost:8080/"
    },
    "executionInfo": {
     "elapsed": 390,
     "status": "ok",
     "timestamp": 1667918946029,
     "user": {
      "displayName": "Shamim Khaled",
      "userId": "17545052050732200912"
     },
     "user_tz": -360
    },
    "id": "9cpourBWRAhv",
    "outputId": "230cee58-eaf4-45bd-d928-b1a6376dcd31"
   },
   "outputs": [
    {
     "name": "stdout",
     "output_type": "stream",
     "text": [
      "True\n",
      "False\n",
      "False\n",
      "3\n",
      "============\n",
      "9\n",
      "5\n",
      "12\n",
      "[8]\n"
     ]
    }
   ],
   "source": [
    "def main():\n",
    "        element = \"guo\".encode()\n",
    "        b1 = Beta1(10000, 4, 1)\n",
    "        b1.insert(element, 4)\n",
    "        print(b1.query(element, 2, 5))\n",
    "        print(b1.query(element, 2, 3))\n",
    "        print(b1.query(\"jin\".encode(), 1, 6))\n",
    "        print(b1.getLevelNum(3))\n",
    "        print(\"============\")\n",
    "        list1 = b1.getBinaryDecomposition(1, 4)\n",
    "        for i in range(0, len(list1)):\n",
    "            print(list1[i])         \n",
    "        print(b1.getBinaryDecomposition(0, 0))\n",
    "        \n",
    "        \n",
    "if __name__ == \"__main__\":\n",
    "    main()"
   ]
  },
  {
   "cell_type": "code",
   "execution_count": null,
   "metadata": {
    "executionInfo": {
     "elapsed": 29,
     "status": "ok",
     "timestamp": 1667914486118,
     "user": {
      "displayName": "Shamim Khaled",
      "userId": "17545052050732200912"
     },
     "user_tz": -360
    },
    "id": "hvGbotriRAhx"
   },
   "outputs": [],
   "source": []
  },
  {
   "cell_type": "code",
   "execution_count": null,
   "metadata": {
    "executionInfo": {
     "elapsed": 29,
     "status": "ok",
     "timestamp": 1667914486119,
     "user": {
      "displayName": "Shamim Khaled",
      "userId": "17545052050732200912"
     },
     "user_tz": -360
    },
    "id": "0ctVmSpIRAhy"
   },
   "outputs": [],
   "source": []
  },
  {
   "cell_type": "code",
   "execution_count": null,
   "metadata": {
    "executionInfo": {
     "elapsed": 28,
     "status": "ok",
     "timestamp": 1667914486119,
     "user": {
      "displayName": "Shamim Khaled",
      "userId": "17545052050732200912"
     },
     "user_tz": -360
    },
    "id": "_gM9h80xRAhz"
   },
   "outputs": [],
   "source": []
  }
 ],
 "metadata": {
  "colab": {
   "collapsed_sections": [],
   "provenance": []
  },
  "kernelspec": {
   "display_name": "Python 3 (ipykernel)",
   "language": "python",
   "name": "python3"
  },
  "language_info": {
   "codemirror_mode": {
    "name": "ipython",
    "version": 3
   },
   "file_extension": ".py",
   "mimetype": "text/x-python",
   "name": "python",
   "nbconvert_exporter": "python",
   "pygments_lexer": "ipython3",
   "version": "3.10.9"
  }
 },
 "nbformat": 4,
 "nbformat_minor": 1
}
